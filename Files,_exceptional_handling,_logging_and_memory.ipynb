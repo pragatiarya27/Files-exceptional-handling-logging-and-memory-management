{
  "nbformat": 4,
  "nbformat_minor": 0,
  "metadata": {
    "colab": {
      "provenance": []
    },
    "kernelspec": {
      "name": "python3",
      "display_name": "Python 3"
    },
    "language_info": {
      "name": "python"
    }
  },
  "cells": [
    {
      "cell_type": "markdown",
      "source": [
        "#1 What is the difference between interpreted and compiled languages?\n",
        "\n",
        "- Interpreted languages execute code line by line, while compiled languages convert the whole code into machine code before execution.\n",
        "\n",
        "#2 What is exception handling in Python?\n",
        "\n",
        "- Exception handling allows the program to manage runtime errors using try, except, else, and finally blocks.\n",
        "\n",
        "#3 What is the purpose of the finally block in exception handling?\n",
        "\n",
        "- The finally block executes code regardless of whether an exception occurs or not.\n",
        "\n",
        "#4 What is logging in Python?\n",
        "\n",
        "- Logging records messages and events to help in debugging and monitoring program execution.\n",
        "\n",
        "#5 What is the significance of the del method in Python?\n",
        "\n",
        "- The del method is a destructor used to clean up resources when an object is deleted.\n",
        "\n",
        "#6 What is the difference between import and from ... import in Python?\n",
        "\n",
        "- import loads the entire module, while from ... import loads specific items from a module.\n",
        "\n",
        "#7 How can you handle multiple exceptions in Python?\n",
        "\n",
        "- You can handle multiple exceptions using separate except blocks or by grouping them in a tuple.\n",
        "\n",
        "#8 What is the purpose of the with statement when handling files in Python?\n",
        "\n",
        "- The with statement automatically closes the file after the block of code finishes executing.\n",
        "\n",
        "#9 What is the difference between multithreading and multiprocessing?\n",
        "\n",
        "- Multithreading runs multiple threads within one process, while multiprocessing runs multiple independent processes.\n",
        "\n",
        "#10 What are the advantages of using logging in a program?\n",
        "\n",
        "- Logging helps detect issues, track execution flow, and maintain debugging records.\n",
        "\n",
        "#11 What is memory management in Python?\n",
        "\n",
        "- Memory management controls the allocation and deallocation of memory using garbage collection.\n",
        "\n",
        "#12 What are the basic steps involved in exception handling in Python?\n",
        "\n",
        "- Use try to test code, except to handle errors, else for successful code, and finally for cleanup actions.\n",
        "\n",
        "#13 Why is memory management important in Python?\n",
        "\n",
        "- It ensures optimal memory usage and prevents memory leaks during program execution.\n",
        "\n",
        "#14 What is the role of try and except in exception handling?\n",
        "\n",
        "- The try block checks for errors, while the except block handles them if they occur.\n",
        "\n",
        "#15 How does Python's garbage collection system work?\n",
        "\n",
        "- It removes unused objects automatically by counting references and freeing memory.\n",
        "\n",
        "#16 What is the purpose of the else block in exception handling?\n",
        "\n",
        "- The else block runs only when no exception occurs in the try block.\n",
        "\n",
        "#17 What are the common logging levels in Python?\n",
        "\n",
        "- The main logging levels are DEBUG, INFO, WARNING, ERROR, and CRITICAL.\n",
        "\n",
        "#18 What is the difference between os.fork() and multiprocessing in Python?\n",
        "\n",
        "- os.fork() works only on Unix and creates child processes, while multiprocessing is cross-platform and provides better control.\n",
        "\n",
        "#19 What is the importance of closing a file in Python?\n",
        "\n",
        "- Closing a file ensures all data is written properly and releases system resources.\n",
        "\n",
        "#20 What is the difference between file.read() and file.readline() in Python?\n",
        "\n",
        "- read() reads the entire file, while readline() reads only one line at a time.\n",
        "\n",
        "#21 What is the logging module in Python used for?\n",
        "\n",
        "- The logging module is used to record messages about the program’s execution.\n",
        "\n",
        "#22 What is the os module in Python used for in file handling?\n",
        "\n",
        "- The os module is used for file, directory, and operating system operations.\n",
        "\n",
        "#23 What are the challenges associated with memory management in Python?\n",
        "\n",
        "- Challenges include circular references, memory fragmentation, and large object storage.\n",
        "\n",
        "#24 How do you raise an exception manually in Python?\n",
        "\n",
        "- You can raise an exception manually using the raise keyword.\n",
        "\n",
        "#25 Why is it important to use multithreading in certain applications?\n",
        "\n",
        "- Multithreading improves performance by allowing multiple tasks to run concurrently."
      ],
      "metadata": {
        "id": "TQ14pTJXzpfu"
      }
    },
    {
      "cell_type": "code",
      "source": [
        "#1 How can you open a file for writing in Python and write a string to it\n",
        "\n",
        "f = open(\"output.txt\", \"w\")\n",
        "f.write(\"Hello, this is a sample text.\")\n",
        "\n"
      ],
      "metadata": {
        "id": "8CrZadesztpk",
        "colab": {
          "base_uri": "https://localhost:8080/"
        },
        "outputId": "c3247eb3-d09a-4bfd-b1bf-15c6ecc7d13f"
      },
      "execution_count": 45,
      "outputs": [
        {
          "output_type": "execute_result",
          "data": {
            "text/plain": [
              "29"
            ]
          },
          "metadata": {},
          "execution_count": 45
        }
      ]
    },
    {
      "cell_type": "code",
      "source": [
        "#2 Write a Python program to read the contents of a file and print each line\n",
        "\n",
        "with open(\"output.txt\", \"r\") as f:\n",
        "    for line in f:\n",
        "        print(line.strip())"
      ],
      "metadata": {
        "colab": {
          "base_uri": "https://localhost:8080/"
        },
        "id": "AJnMAee2zzPW",
        "outputId": "3966471d-02dc-4c42-c595-98cff73e6a4e"
      },
      "execution_count": 47,
      "outputs": [
        {
          "output_type": "stream",
          "name": "stdout",
          "text": [
            "Hello, this is a sample text.\n"
          ]
        }
      ]
    },
    {
      "cell_type": "code",
      "source": [
        "#3 How would you handle a case where the file doesn't exist while trying to open it for reading\n",
        "try:\n",
        "  open(\"nofile.txt\", \"r\")\n",
        "  print(\"File exists\")\n",
        "except FileNotFoundError:\n",
        "  print(\"File does not exist\")"
      ],
      "metadata": {
        "colab": {
          "base_uri": "https://localhost:8080/"
        },
        "id": "f13O-EiUz_Tl",
        "outputId": "9464851d-3024-4be2-c3ad-644a50acfd23"
      },
      "execution_count": null,
      "outputs": [
        {
          "output_type": "stream",
          "name": "stdout",
          "text": [
            "File does not exist\n"
          ]
        }
      ]
    },
    {
      "cell_type": "code",
      "source": [
        "#4 Write a Python script that reads from one file and writes its content to another file\n",
        "\n",
        "with open(\"output.txt\", \"r\") as src, open(\"final.txt\", \"w\") as dest:\n",
        "    dest.write(src.read())"
      ],
      "metadata": {
        "id": "Vur1K38Bz_gl"
      },
      "execution_count": null,
      "outputs": []
    },
    {
      "cell_type": "code",
      "source": [
        "#5 How would you catch and handle division by zero error in Python\n",
        "\n",
        "try:\n",
        "    result = 10 / 0\n",
        "except ZeroDivisionError:\n",
        "    print(\"Cannot divide by zero\")"
      ],
      "metadata": {
        "colab": {
          "base_uri": "https://localhost:8080/"
        },
        "id": "FvTCFJesz_jK",
        "outputId": "ffa37ecd-8019-4c3e-d70e-33d50db25c8b"
      },
      "execution_count": null,
      "outputs": [
        {
          "output_type": "stream",
          "name": "stdout",
          "text": [
            "Cannot divide by zero\n"
          ]
        }
      ]
    },
    {
      "cell_type": "code",
      "source": [
        "#6 Write a Python program that logs an error message to a log file when a division by zero exception occurs\n",
        "\n",
        "import logging\n",
        "logging.basicConfig(filename=\"error.log\", level=logging.ERROR)\n",
        "try:\n",
        "    result = 10 / 0\n",
        "except ZeroDivisionError:\n",
        "    logging.error(\"Division by zero error occurred\")"
      ],
      "metadata": {
        "colab": {
          "base_uri": "https://localhost:8080/"
        },
        "id": "ZSoWt7cbz_mf",
        "outputId": "030944f9-ae6f-41e1-863c-d444edd1757f"
      },
      "execution_count": null,
      "outputs": [
        {
          "output_type": "stream",
          "name": "stderr",
          "text": [
            "ERROR:root:Division by zero error occurred\n"
          ]
        }
      ]
    },
    {
      "cell_type": "code",
      "source": [
        "#7 How do you log information at different levels (INFO, ERROR, WARNING) in Python using the logging module\n",
        "\n",
        "import logging\n",
        "logging.basicConfig(filename=\"app.log\", level=logging.DEBUG)\n",
        "logging.info(\"This is an info message\")\n",
        "logging.warning(\"This is a warning message\")\n",
        "logging.error(\"This is an error message\")"
      ],
      "metadata": {
        "colab": {
          "base_uri": "https://localhost:8080/"
        },
        "id": "GWgtZ3Z90__S",
        "outputId": "5d0385c2-41f7-4b55-9e09-2e3ec4dd75ae"
      },
      "execution_count": null,
      "outputs": [
        {
          "output_type": "stream",
          "name": "stderr",
          "text": [
            "WARNING:root:This is a warning message\n",
            "ERROR:root:This is an error message\n"
          ]
        }
      ]
    },
    {
      "cell_type": "code",
      "source": [
        "#8 Write a program to handle a file opening error using exception handling\n",
        "\n",
        "try:\n",
        "    f = open(\"abc.txt\", \"r\")\n",
        "    print(f.read())\n",
        "except FileNotFoundError:\n",
        "    print(\"File not found\")"
      ],
      "metadata": {
        "colab": {
          "base_uri": "https://localhost:8080/"
        },
        "id": "R3D_5MZX1ACA",
        "outputId": "dc6bef15-7ed8-4aef-b3c3-a66d1590efda"
      },
      "execution_count": null,
      "outputs": [
        {
          "output_type": "stream",
          "name": "stdout",
          "text": [
            "File not found\n"
          ]
        }
      ]
    },
    {
      "cell_type": "code",
      "source": [
        "#9 How can you read a file line by line and store its content in a list in Python\n",
        "f= open(\"final.txt\",\"w\")\n",
        "f.write(\"hii\")\n",
        "f.write(\"\\nHello everyone\")\n"
      ],
      "metadata": {
        "colab": {
          "base_uri": "https://localhost:8080/"
        },
        "id": "-wie0nRc1AFm",
        "outputId": "d9f36488-9282-45e3-f3ba-037d5d790eb0"
      },
      "execution_count": null,
      "outputs": [
        {
          "output_type": "stream",
          "name": "stdout",
          "text": [
            "['hii\\n', 'Hello everyone']\n"
          ]
        }
      ]
    },
    {
      "cell_type": "code",
      "source": [
        "with open(\"final.txt\", \"r\") as f:\n",
        "    lines = f.readlines()\n",
        "print(lines)"
      ],
      "metadata": {
        "colab": {
          "base_uri": "https://localhost:8080/"
        },
        "id": "WVfio5xY1vuS",
        "outputId": "6fb229c8-d581-4d1f-d6aa-8a8792017a62"
      },
      "execution_count": null,
      "outputs": [
        {
          "output_type": "stream",
          "name": "stdout",
          "text": [
            "['hii\\n', 'Hello everyone']\n"
          ]
        }
      ]
    },
    {
      "cell_type": "code",
      "source": [
        "#10 How can you append data to an existing file in Python\n",
        "\n",
        "with open(\"final.txt\", \"a\") as f:\n",
        "    f.write(\"\\nAppended line\")\n",
        "f=open(\"final.txt\", \"r\")\n",
        "print(f.read())\n",
        "f.close()"
      ],
      "metadata": {
        "colab": {
          "base_uri": "https://localhost:8080/"
        },
        "id": "j3VZzvg_2Btt",
        "outputId": "da8f3672-f8cf-4d25-f63b-31e5b9ac7ed4"
      },
      "execution_count": null,
      "outputs": [
        {
          "output_type": "stream",
          "name": "stdout",
          "text": [
            "Hello, this is a sample text.\n",
            "Appended line\n",
            "Appended line\n",
            "Appended line\n"
          ]
        }
      ]
    },
    {
      "cell_type": "code",
      "source": [
        "#11 Write a Python program that uses a try-except block to handle an error when attempting to access a dictionary key that doesn't exist\n",
        "data = {\"name\": \"Alice\"}\n",
        "try:\n",
        "    print(data[\"age\"])\n",
        "except KeyError:\n",
        "    print(\"Key not found\")"
      ],
      "metadata": {
        "colab": {
          "base_uri": "https://localhost:8080/"
        },
        "id": "2kLCmyOW2bTg",
        "outputId": "0bfa098d-d53e-42ae-fd0f-dd50ca3e9a4a"
      },
      "execution_count": null,
      "outputs": [
        {
          "output_type": "stream",
          "name": "stdout",
          "text": [
            "Key not found\n"
          ]
        }
      ]
    },
    {
      "cell_type": "code",
      "source": [
        "#12 Write a program that demonstrates using multiple except blocks to handle different types of exceptions\n",
        "\n",
        "try:\n",
        "    x = int(input(\"Enter number: \"))\n",
        "    y = 10 / x\n",
        "except ValueError:\n",
        "    print(\"Invalid input\")\n",
        "except ZeroDivisionError:\n",
        "    print(\"Division by zero not allowed\")"
      ],
      "metadata": {
        "colab": {
          "base_uri": "https://localhost:8080/"
        },
        "id": "8TyoqSVi2i2-",
        "outputId": "d52c3e55-a2cc-402d-fae8-8ec59c8de8c6"
      },
      "execution_count": null,
      "outputs": [
        {
          "output_type": "stream",
          "name": "stdout",
          "text": [
            "Enter number: 0\n",
            "Division by zero not allowed\n"
          ]
        }
      ]
    },
    {
      "cell_type": "code",
      "source": [
        "#13 How would you check if a file exists before attempting to read it in Python\n",
        "\n",
        "import os\n",
        "if os.path.exists(\"file.txt\"):\n",
        "    with open(\"file.txt\", \"r\") as f:\n",
        "        print(f.read())\n",
        "else:\n",
        "    print(\"File does not exist\")"
      ],
      "metadata": {
        "colab": {
          "base_uri": "https://localhost:8080/"
        },
        "id": "pGDZpqli2vUr",
        "outputId": "25ead9a0-cc8d-44ae-eb2a-61786a383562"
      },
      "execution_count": null,
      "outputs": [
        {
          "output_type": "stream",
          "name": "stdout",
          "text": [
            "File does not exist\n"
          ]
        }
      ]
    },
    {
      "cell_type": "code",
      "source": [
        "#14 Write a program that uses the logging module to log both informational and error messages\n",
        "\n",
        "import logging\n",
        "logging.basicConfig(filename=\"status.log\", level=logging.DEBUG)\n",
        "logging.info(\"Program started\")\n",
        "try:\n",
        "    result = 10 / 0\n",
        "except ZeroDivisionError:\n",
        "    logging.error(\"Division by zero occurred\")"
      ],
      "metadata": {
        "colab": {
          "base_uri": "https://localhost:8080/"
        },
        "id": "Wm8bkYeK21MD",
        "outputId": "b04129b0-60f9-404a-86af-9aa18235efc6"
      },
      "execution_count": null,
      "outputs": [
        {
          "output_type": "stream",
          "name": "stderr",
          "text": [
            "ERROR:root:Division by zero occurred\n"
          ]
        }
      ]
    },
    {
      "cell_type": "code",
      "source": [
        "#15 Write a Python program that prints the content of a file and handles the case when the file is empty\n",
        "\n",
        "f=open(\"first.txt\",\"w\")\n",
        "f.write(\"\")\n",
        "\n",
        "with open(\"first.txt\", \"r\") as f:\n",
        "    content = f.read()\n",
        "    if content:\n",
        "        print(content)\n",
        "    else:\n",
        "        print(\"File is empty\")"
      ],
      "metadata": {
        "colab": {
          "base_uri": "https://localhost:8080/"
        },
        "id": "6nEYAvND26Jl",
        "outputId": "b8cef1f3-2b85-4595-a754-644bb1b2b2a3"
      },
      "execution_count": 66,
      "outputs": [
        {
          "output_type": "stream",
          "name": "stdout",
          "text": [
            "File is empty\n"
          ]
        }
      ]
    },
    {
      "cell_type": "code",
      "source": [
        "!pip install -q memory-profiler"
      ],
      "metadata": {
        "id": "S8XoJ_YEV1B8"
      },
      "execution_count": 5,
      "outputs": []
    },
    {
      "cell_type": "code",
      "source": [
        "#16 Demonstrate how to use memory profiling to check the memory usage of a small program\n",
        "\n",
        "!pip install -q memory-profiler\n",
        "%load_ext memory_profiler\n",
        "\n",
        "def test():\n",
        "    data = [i for i in range(10000)]\n",
        "\n",
        "%memit test()"
      ],
      "metadata": {
        "colab": {
          "base_uri": "https://localhost:8080/"
        },
        "id": "5Ilfhoey29Wq",
        "outputId": "e2b4fd62-ec39-439a-f464-e78aaef72116"
      },
      "execution_count": 8,
      "outputs": [
        {
          "output_type": "stream",
          "name": "stdout",
          "text": [
            "peak memory: 117.37 MiB, increment: 0.14 MiB\n"
          ]
        }
      ]
    },
    {
      "cell_type": "code",
      "source": [
        "#17 Write a Python program to create and write a list of numbers to a file, one number per line\n",
        "\n",
        "numbers = [1, 2, 3, 4, 5]\n",
        "with open(\"numbers.txt\", \"w\") as f:\n",
        "    for num in numbers:\n",
        "     f.write(str(num) + \"\\n\")\n",
        "     print(num)"
      ],
      "metadata": {
        "colab": {
          "base_uri": "https://localhost:8080/"
        },
        "id": "8H7J_2KC4KJQ",
        "outputId": "fca4bd21-d26d-4baf-c6d7-a14b03513a16"
      },
      "execution_count": 19,
      "outputs": [
        {
          "output_type": "stream",
          "name": "stdout",
          "text": [
            "1\n",
            "2\n",
            "3\n",
            "4\n",
            "5\n"
          ]
        }
      ]
    },
    {
      "cell_type": "code",
      "source": [
        "#18 How would you implement a basic logging setup that logs to a file with rotation after 1MB\n",
        "\n",
        "import logging\n",
        "from logging.handlers import RotatingFileHandler\n",
        "\n",
        "# Set up rotating file handler\n",
        "handler = RotatingFileHandler(\"rotate.log\", maxBytes=1_000_000, backupCount=3)\n",
        "handler.setFormatter(logging.Formatter('%(asctime)s - %(levelname)s - %(message)s'))\n",
        "\n",
        "# Create a logger and attach only the file handler\n",
        "logger = logging.getLogger(\"my_logger\")\n",
        "logger.setLevel(logging.INFO)\n",
        "logger.addHandler(handler)\n",
        "\n",
        "# Log message (will go only to file)\n",
        "logger.info(\"Log rotation test\")\n",
        "\n",
        "\n"
      ],
      "metadata": {
        "id": "Gm2HBBTA4tWP"
      },
      "execution_count": 35,
      "outputs": []
    },
    {
      "cell_type": "code",
      "source": [
        "#19 Write a program that handles both IndexError and KeyError using a try-except block\n",
        "\n",
        "data = {\"a\": 1}\n",
        "lst = [10, 20]\n",
        "try:\n",
        "    print(lst[5])\n",
        "    print(data[\"b\"])\n",
        "except IndexError:\n",
        "    print(\"Index out of range\")\n",
        "except KeyError:\n",
        "    print(\"Key not found\")\n",
        "\n",
        "\n",
        "\n",
        "\n",
        "\n"
      ],
      "metadata": {
        "colab": {
          "base_uri": "https://localhost:8080/"
        },
        "id": "NRmhbmnS4tZ5",
        "outputId": "d00e4129-0252-4b25-9278-f635e37f600c"
      },
      "execution_count": 36,
      "outputs": [
        {
          "output_type": "stream",
          "name": "stdout",
          "text": [
            "Index out of range\n"
          ]
        }
      ]
    },
    {
      "cell_type": "code",
      "source": [
        "\n",
        "#20 How would you open a file and read its contents using a context manager in Python\n",
        "\n",
        "with open(\"numbers.txt\", \"r\") as f:\n",
        "    content=f.read()\n",
        "    print(content)"
      ],
      "metadata": {
        "colab": {
          "base_uri": "https://localhost:8080/"
        },
        "id": "GQ_p90l7bRlh",
        "outputId": "aa30e88c-58a7-460b-936a-964f3d4addd4"
      },
      "execution_count": 41,
      "outputs": [
        {
          "output_type": "stream",
          "name": "stdout",
          "text": [
            "1\n",
            "2\n",
            "3\n",
            "4\n",
            "5\n",
            "\n"
          ]
        }
      ]
    },
    {
      "cell_type": "code",
      "source": [
        "\n",
        "#21 Write a Python program that reads a file and prints the number of occurrences of a specific word\n",
        "a=open(\"tina.txt\",\"w\")\n",
        "a.write(\"HI Everyone python\")\n",
        "a.write(\"\\nniii\")\n",
        "b=open(\"tina.txt\",\"r\")\n",
        "print(b.read())\n"
      ],
      "metadata": {
        "colab": {
          "base_uri": "https://localhost:8080/"
        },
        "id": "IDExn0s6bWQa",
        "outputId": "5e6f3cdd-f4e9-4762-d14f-3cac9acddd38"
      },
      "execution_count": 62,
      "outputs": [
        {
          "output_type": "stream",
          "name": "stdout",
          "text": [
            "HI Everyone python\n",
            "niii\n"
          ]
        }
      ]
    },
    {
      "cell_type": "code",
      "source": [
        "word = \"python\"\n",
        "count = 0\n",
        "with open(\"tina.txt\", \"r\") as f:\n",
        "    for line in f:\n",
        "      count += line.lower().count(word)\n",
        "print(count)"
      ],
      "metadata": {
        "colab": {
          "base_uri": "https://localhost:8080/"
        },
        "id": "BX29qFb3cjst",
        "outputId": "c4d2b0dc-115f-44d7-9ed1-ce8944f5d7b5"
      },
      "execution_count": 63,
      "outputs": [
        {
          "output_type": "stream",
          "name": "stdout",
          "text": [
            "1\n"
          ]
        }
      ]
    },
    {
      "cell_type": "code",
      "source": [
        "#22 How can you check if a file is empty before attempting to read its contents\n",
        "f=open(\"fi.txt\",\"w\")\n",
        "f.write(\"\")\n",
        "\n",
        "\n",
        "\n",
        "\n",
        "\n"
      ],
      "metadata": {
        "colab": {
          "base_uri": "https://localhost:8080/"
        },
        "id": "KEdNkVW-bKO-",
        "outputId": "e8ac93a6-b366-4758-9548-55f2dcb4d6e0"
      },
      "execution_count": 67,
      "outputs": [
        {
          "output_type": "execute_result",
          "data": {
            "text/plain": [
              "0"
            ]
          },
          "metadata": {},
          "execution_count": 67
        }
      ]
    },
    {
      "cell_type": "code",
      "source": [
        "import os\n",
        "if os.path.getsize(\"fi.txt\") == 0:\n",
        "    print(\"File is empty\")\n",
        "else:\n",
        "    with open(\"fi.txt\", \"r\") as f:\n",
        "        print(f.read())"
      ],
      "metadata": {
        "colab": {
          "base_uri": "https://localhost:8080/"
        },
        "id": "ONN3T6-XdgrU",
        "outputId": "12ceda67-c68c-49b4-d2e0-8b2349c9a8d1"
      },
      "execution_count": 68,
      "outputs": [
        {
          "output_type": "stream",
          "name": "stdout",
          "text": [
            "File is empty\n"
          ]
        }
      ]
    },
    {
      "cell_type": "code",
      "source": [
        "#23 Write a Python program that writes to a log file when an error occurs during file handling\n",
        "\n",
        "import logging\n",
        "logging.basicConfig(filename=\"file_error.log\", level=logging.ERROR)\n",
        "try:\n",
        "    f = open(\"missing.txt\", \"r\")\n",
        "    print(f.read())\n",
        "except FileNotFoundError:\n",
        "    logging.error(\"File not found error occurred\")"
      ],
      "metadata": {
        "colab": {
          "base_uri": "https://localhost:8080/"
        },
        "id": "aDhSTyIE4teH",
        "outputId": "6b170235-89d2-4f72-83e2-b4b08344ef53"
      },
      "execution_count": 69,
      "outputs": [
        {
          "output_type": "stream",
          "name": "stderr",
          "text": [
            "ERROR:root:File not found error occurred\n"
          ]
        }
      ]
    }
  ]
}